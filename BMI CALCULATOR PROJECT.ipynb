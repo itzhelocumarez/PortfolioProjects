{
 "cells": [
  {
   "cell_type": "code",
   "execution_count": 98,
   "id": "9db40e8c-21fa-4995-b8e5-3107a5677b96",
   "metadata": {},
   "outputs": [],
   "source": [
    "BMI CALCULATOR\n",
    "\n",
    "\n",
    "#BMI = (weight in pounds x 703) / (height in inches x height in inches)"
   ]
  },
  {
   "cell_type": "code",
   "execution_count": null,
   "id": "2af1161b-2541-44b1-985d-3362263b1174",
   "metadata": {},
   "outputs": [],
   "source": [
    "name = input(\"Enter your name: \")\n",
    "\n",
    "weight = int(input(\"Enter your weight in pounds: \"))\n",
    "\n",
    "height = int(input(\"Enter your height in inches: \"))\n",
    "\n",
    "BMI = (weight * 703) / (height * height)\n",
    "\n",
    "print(BMI)\n",
    "\n",
    "if BMI>0:\n",
    "    if(BMI<18.5):\n",
    "        print(name + \", You are underweight.\")\n",
    "    elif(BMI<=24.9):\n",
    "        print(name + \", You are normal weight.\")\n",
    "    elif(BMI<29.9):\n",
    "        print(name + \", You are overweight.\")\n",
    "    elif(BMI<34.9):\n",
    "        print(name + \", You are obese.\")\n",
    "    elif(BMI<39.9):\n",
    "        print(name + \", You are severely obese.\")\n",
    "    else:\n",
    "        print(name + \", You are morbidly obese\")\n",
    "else:\n",
    "    print(\"Enter valid input\")\n"
   ]
  }
 ],
 "metadata": {
  "kernelspec": {
   "display_name": "Python 3 (ipykernel)",
   "language": "python",
   "name": "python3"
  },
  "language_info": {
   "codemirror_mode": {
    "name": "ipython",
    "version": 3
   },
   "file_extension": ".py",
   "mimetype": "text/x-python",
   "name": "python",
   "nbconvert_exporter": "python",
   "pygments_lexer": "ipython3",
   "version": "3.12.4"
  }
 },
 "nbformat": 4,
 "nbformat_minor": 5
}
